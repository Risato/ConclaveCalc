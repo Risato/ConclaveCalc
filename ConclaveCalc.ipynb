{
 "cells": [
  {
   "cell_type": "markdown",
   "metadata": {},
   "source": [
    "# Required Scripts"
   ]
  },
  {
   "cell_type": "code",
   "execution_count": 1,
   "metadata": {
    "collapsed": true
   },
   "outputs": [],
   "source": [
    "import os\n",
    "import pandas as pd\n",
    "import numpy as np\n",
    "\n",
    "from pandas import ExcelWriter\n",
    "from pandas import ExcelFile"
   ]
  },
  {
   "cell_type": "code",
   "execution_count": 2,
   "metadata": {
    "collapsed": false
   },
   "outputs": [
    {
     "name": "stdout",
     "output_type": "stream",
     "text": [
      "Do you need to separate competitors by team? \n",
      "Do you need to separate competitors by team? yes\n"
     ]
    }
   ],
   "source": [
    "# Add Switch for team or semiprofessional event\n",
    "teamswitch = None\n",
    "while teamswitch not in ['yes', 'no']:\n",
    "    teamswitch = raw_input(\"Do you need to separate competitors by team? \").lower()\n"
   ]
  },
  {
   "cell_type": "code",
   "execution_count": 3,
   "metadata": {
    "collapsed": false
   },
   "outputs": [
    {
     "name": "stdout",
     "output_type": "stream",
     "text": [
      ".env\n",
      ".git\n",
      ".gitattributes\n",
      ".gitignore\n",
      ".ipynb_checkpoints\n",
      "app.json\n",
      "Backup\n",
      "Bearclave.xlsx\n",
      "BearClaveScheduleONLY.xlsx\n",
      "ConclaveCalc-Copy1.html\n",
      "ConclaveCalc-Copy1.py\n",
      "ConclaveCalc.html\n",
      "ConclaveCalc.ipynb\n",
      "ConclaveCalc.py\n",
      "ConclaveScheduler.html\n",
      "ConclaveScheduler.ipynb\n",
      "ConclaveScheduler.py\n",
      "gettingstarted\n",
      "hello\n",
      "HSU Registration Bearclave 2017.xlsx\n",
      "manage.py\n",
      "Pipfile\n",
      "Pipfile.lock\n",
      "Procfile\n",
      "Procfile.windows\n",
      "README.md\n",
      "Registration.xlsx\n",
      "Untitled.html\n",
      "Untitled.py\n",
      "Untitled.txt\n",
      "Please enter filename: HSU Registration Bearclave 2017.xlsx\n"
     ]
    }
   ],
   "source": [
    "dirs = os.listdir('.') \n",
    "\n",
    "# This will print all the files and directories\n",
    "for file in dirs:\n",
    "    print file\n",
    "\n",
    "response = None\n",
    "while response not in dirs:\n",
    "    response = raw_input(\"Please enter filename: \")\n",
    "\n",
    "# response = 'Bearclave.xlsx'\n",
    "rawinput = pd.read_excel(response, sheetname=None)"
   ]
  },
  {
   "cell_type": "markdown",
   "metadata": {},
   "source": [
    "# Calculate Results"
   ]
  },
  {
   "cell_type": "code",
   "execution_count": 4,
   "metadata": {
    "collapsed": true
   },
   "outputs": [],
   "source": [
    "# Assigns rank based on ascending or descending scores\n",
    "pt_order ={\n",
    "    'Dendro': False,\n",
    "    'Traverse': True,\n",
    "    'Hard': False,\n",
    "    'Double': True,\n",
    "    'PSaw': True,\n",
    "    'Choker': True,\n",
    "    'Throw': False,\n",
    "    'Single': True,\n",
    "    'Caber': True,\n",
    "    'Climb': False,\n",
    "    'JackJill': True,\n",
    "    'Speed': True,\n",
    "    'Pulp': True,\n",
    "    'OP': True}\n",
    "\n",
    "# Assigns points to rankings\n",
    "rankswap = {1:10, 2:7, 3:5, 4:3, 5:1}\n",
    "\n",
    "# Assigns points based on whether events are run separately for men and women\n",
    "gender_split = ['Dendro', 'Traverse', 'Cruise']\n",
    "\n",
    "# Assigns whether or not events have a partner\n",
    "partner_split = ['Double', 'JackJill', 'Caber']"
   ]
  },
  {
   "cell_type": "code",
   "execution_count": 5,
   "metadata": {
    "collapsed": false
   },
   "outputs": [
    {
     "ename": "NameError",
     "evalue": "name 'df' is not defined",
     "output_type": "error",
     "traceback": [
      "\u001b[0;31m---------------------------------------------------------------------------\u001b[0m",
      "\u001b[0;31mNameError\u001b[0m                                 Traceback (most recent call last)",
      "\u001b[0;32m<ipython-input-5-527658fb768a>\u001b[0m in \u001b[0;36m<module>\u001b[0;34m()\u001b[0m\n\u001b[1;32m      1\u001b[0m \u001b[0mscores\u001b[0m \u001b[1;33m=\u001b[0m \u001b[0mpd\u001b[0m\u001b[1;33m.\u001b[0m\u001b[0mDataFrame\u001b[0m\u001b[1;33m(\u001b[0m\u001b[1;33m)\u001b[0m\u001b[1;33m\u001b[0m\u001b[0m\n\u001b[1;32m      2\u001b[0m \u001b[1;33m\u001b[0m\u001b[0m\n\u001b[0;32m----> 3\u001b[0;31m \u001b[1;32mfor\u001b[0m \u001b[0mkey\u001b[0m\u001b[1;33m,\u001b[0m \u001b[0mvalue\u001b[0m \u001b[1;32min\u001b[0m \u001b[0mdf\u001b[0m\u001b[1;33m.\u001b[0m\u001b[0miteritems\u001b[0m\u001b[1;33m(\u001b[0m\u001b[1;33m)\u001b[0m \u001b[1;33m:\u001b[0m\u001b[1;33m\u001b[0m\u001b[0m\n\u001b[0m\u001b[1;32m      4\u001b[0m \u001b[1;33m\u001b[0m\u001b[0m\n\u001b[1;32m      5\u001b[0m     \u001b[1;32mif\u001b[0m \u001b[0mkey\u001b[0m \u001b[1;32min\u001b[0m \u001b[0mgender_split\u001b[0m\u001b[1;33m:\u001b[0m\u001b[1;33m\u001b[0m\u001b[0m\n",
      "\u001b[0;31mNameError\u001b[0m: name 'df' is not defined"
     ]
    }
   ],
   "source": [
    "scores = pd.DataFrame()\n",
    "\n",
    "for key, value in df.iteritems() :\n",
    "    \n",
    "    if key in gender_split:\n",
    "        temp = rawinput[key].dropna(subset=['Contestant'])\n",
    "        tempN = temp.sort_values('Score',ascending = pt_order[key]).reset_index(drop=True)\n",
    "        # Assign rank to competitor names\n",
    "        tempN['Rank'] = tempN.index + 1\n",
    "        # Assign point values to rank\n",
    "        tempN['Points'] = tempN.Rank.map(rankswap)\n",
    "        tempN = tempN[tempN['Points'] >0]\n",
    "        tempN['Event'] = key\n",
    "        scores = tempN.append(scores)\n",
    "#         print key\n",
    "    \n",
    "    else:\n",
    "        # Clean Input Data\n",
    "        temp = rawinput[key].dropna(subset=['Contestant'])\n",
    "    \n",
    "        # Sort based on correlated rank\n",
    "        tempM = temp[temp['Gender']=='M'].sort_values('Score',ascending = pt_order[key]).reset_index(drop=True)\n",
    "        # Assign rank to competitor names\n",
    "        tempM['Rank'] = tempM.index + 1\n",
    "        # Assign point values to rank\n",
    "        tempM['Points'] = tempM.Rank.map(rankswap)\n",
    "        tempM = tempM[tempM['Points'] >0]\n",
    "        tempM['Event'] = key\n",
    "        scores = tempM.append(scores)\n",
    "#         print key + '-M'\n",
    "        \n",
    "        # Sort based on correlated rank\n",
    "        tempF = temp[temp['Gender']=='F'].sort_values('Score',ascending = pt_order[key]).reset_index(drop=True)\n",
    "        # Assign rank to competitor names\n",
    "        tempF['Rank'] = tempF.index + 1\n",
    "        # Assign point values to rank\n",
    "        tempF['Points'] = tempF.Rank.map(rankswap)\n",
    "        tempF = tempF[tempF['Points'] >0]\n",
    "        tempF['Event'] = key\n",
    "        scores = tempF.append(scores)\n",
    "#         print key + '-F'"
   ]
  },
  {
   "cell_type": "code",
   "execution_count": 6,
   "metadata": {
    "collapsed": false
   },
   "outputs": [
    {
     "ename": "KeyError",
     "evalue": "'Contestant B'",
     "output_type": "error",
     "traceback": [
      "\u001b[0;31m---------------------------------------------------------------------------\u001b[0m",
      "\u001b[0;31mKeyError\u001b[0m                                  Traceback (most recent call last)",
      "\u001b[0;32m<ipython-input-6-3eb539615540>\u001b[0m in \u001b[0;36m<module>\u001b[0;34m()\u001b[0m\n\u001b[1;32m      1\u001b[0m \u001b[1;31m# Clean output\u001b[0m\u001b[1;33m\u001b[0m\u001b[1;33m\u001b[0m\u001b[0m\n\u001b[1;32m      2\u001b[0m \u001b[1;31m# Weigh scores in partner events\u001b[0m\u001b[1;33m\u001b[0m\u001b[1;33m\u001b[0m\u001b[0m\n\u001b[0;32m----> 3\u001b[0;31m \u001b[0mscores\u001b[0m\u001b[1;33m[\u001b[0m\u001b[1;34m'multiplier'\u001b[0m\u001b[1;33m]\u001b[0m \u001b[1;33m=\u001b[0m \u001b[0mnp\u001b[0m\u001b[1;33m.\u001b[0m\u001b[0mwhere\u001b[0m\u001b[1;33m(\u001b[0m\u001b[0mscores\u001b[0m\u001b[1;33m[\u001b[0m\u001b[1;34m'Contestant B'\u001b[0m\u001b[1;33m]\u001b[0m\u001b[1;33m.\u001b[0m\u001b[0mnotnull\u001b[0m\u001b[1;33m(\u001b[0m\u001b[1;33m)\u001b[0m\u001b[1;33m,\u001b[0m \u001b[1;36m0.5\u001b[0m\u001b[1;33m,\u001b[0m \u001b[1;36m1\u001b[0m\u001b[1;33m)\u001b[0m\u001b[1;33m\u001b[0m\u001b[0m\n\u001b[0m\u001b[1;32m      4\u001b[0m \u001b[0mscores\u001b[0m\u001b[1;33m[\u001b[0m\u001b[1;34m'Points'\u001b[0m\u001b[1;33m]\u001b[0m \u001b[1;33m=\u001b[0m \u001b[0mscores\u001b[0m\u001b[1;33m[\u001b[0m\u001b[1;34m'multiplier'\u001b[0m\u001b[1;33m]\u001b[0m\u001b[1;33m*\u001b[0m\u001b[0mscores\u001b[0m\u001b[1;33m[\u001b[0m\u001b[1;34m'Points'\u001b[0m\u001b[1;33m]\u001b[0m\u001b[1;33m\u001b[0m\u001b[0m\n\u001b[1;32m      5\u001b[0m \u001b[0mscores\u001b[0m \u001b[1;33m=\u001b[0m \u001b[0mscores\u001b[0m\u001b[1;33m[\u001b[0m\u001b[1;33m[\u001b[0m\u001b[1;34m'Contestant'\u001b[0m\u001b[1;33m,\u001b[0m \u001b[1;34m'Gender'\u001b[0m\u001b[1;33m,\u001b[0m \u001b[1;34m'Contestant B'\u001b[0m\u001b[1;33m,\u001b[0m \u001b[1;34m'Gender B'\u001b[0m\u001b[1;33m,\u001b[0m \u001b[1;34m'Event'\u001b[0m\u001b[1;33m,\u001b[0m \u001b[1;34m'Team'\u001b[0m\u001b[1;33m,\u001b[0m \u001b[1;34m'School'\u001b[0m\u001b[1;33m,\u001b[0m \u001b[1;34m'Points'\u001b[0m\u001b[1;33m,\u001b[0m \u001b[1;34m'Rank'\u001b[0m\u001b[1;33m]\u001b[0m\u001b[1;33m]\u001b[0m\u001b[1;33m\u001b[0m\u001b[0m\n",
      "\u001b[0;32mC:\\Users\\Risato\\Anaconda2\\lib\\site-packages\\pandas\\core\\frame.pyc\u001b[0m in \u001b[0;36m__getitem__\u001b[0;34m(self, key)\u001b[0m\n\u001b[1;32m   2057\u001b[0m             \u001b[1;32mreturn\u001b[0m \u001b[0mself\u001b[0m\u001b[1;33m.\u001b[0m\u001b[0m_getitem_multilevel\u001b[0m\u001b[1;33m(\u001b[0m\u001b[0mkey\u001b[0m\u001b[1;33m)\u001b[0m\u001b[1;33m\u001b[0m\u001b[0m\n\u001b[1;32m   2058\u001b[0m         \u001b[1;32melse\u001b[0m\u001b[1;33m:\u001b[0m\u001b[1;33m\u001b[0m\u001b[0m\n\u001b[0;32m-> 2059\u001b[0;31m             \u001b[1;32mreturn\u001b[0m \u001b[0mself\u001b[0m\u001b[1;33m.\u001b[0m\u001b[0m_getitem_column\u001b[0m\u001b[1;33m(\u001b[0m\u001b[0mkey\u001b[0m\u001b[1;33m)\u001b[0m\u001b[1;33m\u001b[0m\u001b[0m\n\u001b[0m\u001b[1;32m   2060\u001b[0m \u001b[1;33m\u001b[0m\u001b[0m\n\u001b[1;32m   2061\u001b[0m     \u001b[1;32mdef\u001b[0m \u001b[0m_getitem_column\u001b[0m\u001b[1;33m(\u001b[0m\u001b[0mself\u001b[0m\u001b[1;33m,\u001b[0m \u001b[0mkey\u001b[0m\u001b[1;33m)\u001b[0m\u001b[1;33m:\u001b[0m\u001b[1;33m\u001b[0m\u001b[0m\n",
      "\u001b[0;32mC:\\Users\\Risato\\Anaconda2\\lib\\site-packages\\pandas\\core\\frame.pyc\u001b[0m in \u001b[0;36m_getitem_column\u001b[0;34m(self, key)\u001b[0m\n\u001b[1;32m   2064\u001b[0m         \u001b[1;31m# get column\u001b[0m\u001b[1;33m\u001b[0m\u001b[1;33m\u001b[0m\u001b[0m\n\u001b[1;32m   2065\u001b[0m         \u001b[1;32mif\u001b[0m \u001b[0mself\u001b[0m\u001b[1;33m.\u001b[0m\u001b[0mcolumns\u001b[0m\u001b[1;33m.\u001b[0m\u001b[0mis_unique\u001b[0m\u001b[1;33m:\u001b[0m\u001b[1;33m\u001b[0m\u001b[0m\n\u001b[0;32m-> 2066\u001b[0;31m             \u001b[1;32mreturn\u001b[0m \u001b[0mself\u001b[0m\u001b[1;33m.\u001b[0m\u001b[0m_get_item_cache\u001b[0m\u001b[1;33m(\u001b[0m\u001b[0mkey\u001b[0m\u001b[1;33m)\u001b[0m\u001b[1;33m\u001b[0m\u001b[0m\n\u001b[0m\u001b[1;32m   2067\u001b[0m \u001b[1;33m\u001b[0m\u001b[0m\n\u001b[1;32m   2068\u001b[0m         \u001b[1;31m# duplicate columns & possible reduce dimensionality\u001b[0m\u001b[1;33m\u001b[0m\u001b[1;33m\u001b[0m\u001b[0m\n",
      "\u001b[0;32mC:\\Users\\Risato\\Anaconda2\\lib\\site-packages\\pandas\\core\\generic.pyc\u001b[0m in \u001b[0;36m_get_item_cache\u001b[0;34m(self, item)\u001b[0m\n\u001b[1;32m   1384\u001b[0m         \u001b[0mres\u001b[0m \u001b[1;33m=\u001b[0m \u001b[0mcache\u001b[0m\u001b[1;33m.\u001b[0m\u001b[0mget\u001b[0m\u001b[1;33m(\u001b[0m\u001b[0mitem\u001b[0m\u001b[1;33m)\u001b[0m\u001b[1;33m\u001b[0m\u001b[0m\n\u001b[1;32m   1385\u001b[0m         \u001b[1;32mif\u001b[0m \u001b[0mres\u001b[0m \u001b[1;32mis\u001b[0m \u001b[0mNone\u001b[0m\u001b[1;33m:\u001b[0m\u001b[1;33m\u001b[0m\u001b[0m\n\u001b[0;32m-> 1386\u001b[0;31m             \u001b[0mvalues\u001b[0m \u001b[1;33m=\u001b[0m \u001b[0mself\u001b[0m\u001b[1;33m.\u001b[0m\u001b[0m_data\u001b[0m\u001b[1;33m.\u001b[0m\u001b[0mget\u001b[0m\u001b[1;33m(\u001b[0m\u001b[0mitem\u001b[0m\u001b[1;33m)\u001b[0m\u001b[1;33m\u001b[0m\u001b[0m\n\u001b[0m\u001b[1;32m   1387\u001b[0m             \u001b[0mres\u001b[0m \u001b[1;33m=\u001b[0m \u001b[0mself\u001b[0m\u001b[1;33m.\u001b[0m\u001b[0m_box_item_values\u001b[0m\u001b[1;33m(\u001b[0m\u001b[0mitem\u001b[0m\u001b[1;33m,\u001b[0m \u001b[0mvalues\u001b[0m\u001b[1;33m)\u001b[0m\u001b[1;33m\u001b[0m\u001b[0m\n\u001b[1;32m   1388\u001b[0m             \u001b[0mcache\u001b[0m\u001b[1;33m[\u001b[0m\u001b[0mitem\u001b[0m\u001b[1;33m]\u001b[0m \u001b[1;33m=\u001b[0m \u001b[0mres\u001b[0m\u001b[1;33m\u001b[0m\u001b[0m\n",
      "\u001b[0;32mC:\\Users\\Risato\\Anaconda2\\lib\\site-packages\\pandas\\core\\internals.pyc\u001b[0m in \u001b[0;36mget\u001b[0;34m(self, item, fastpath)\u001b[0m\n\u001b[1;32m   3541\u001b[0m \u001b[1;33m\u001b[0m\u001b[0m\n\u001b[1;32m   3542\u001b[0m             \u001b[1;32mif\u001b[0m \u001b[1;32mnot\u001b[0m \u001b[0misnull\u001b[0m\u001b[1;33m(\u001b[0m\u001b[0mitem\u001b[0m\u001b[1;33m)\u001b[0m\u001b[1;33m:\u001b[0m\u001b[1;33m\u001b[0m\u001b[0m\n\u001b[0;32m-> 3543\u001b[0;31m                 \u001b[0mloc\u001b[0m \u001b[1;33m=\u001b[0m \u001b[0mself\u001b[0m\u001b[1;33m.\u001b[0m\u001b[0mitems\u001b[0m\u001b[1;33m.\u001b[0m\u001b[0mget_loc\u001b[0m\u001b[1;33m(\u001b[0m\u001b[0mitem\u001b[0m\u001b[1;33m)\u001b[0m\u001b[1;33m\u001b[0m\u001b[0m\n\u001b[0m\u001b[1;32m   3544\u001b[0m             \u001b[1;32melse\u001b[0m\u001b[1;33m:\u001b[0m\u001b[1;33m\u001b[0m\u001b[0m\n\u001b[1;32m   3545\u001b[0m                 \u001b[0mindexer\u001b[0m \u001b[1;33m=\u001b[0m \u001b[0mnp\u001b[0m\u001b[1;33m.\u001b[0m\u001b[0marange\u001b[0m\u001b[1;33m(\u001b[0m\u001b[0mlen\u001b[0m\u001b[1;33m(\u001b[0m\u001b[0mself\u001b[0m\u001b[1;33m.\u001b[0m\u001b[0mitems\u001b[0m\u001b[1;33m)\u001b[0m\u001b[1;33m)\u001b[0m\u001b[1;33m[\u001b[0m\u001b[0misnull\u001b[0m\u001b[1;33m(\u001b[0m\u001b[0mself\u001b[0m\u001b[1;33m.\u001b[0m\u001b[0mitems\u001b[0m\u001b[1;33m)\u001b[0m\u001b[1;33m]\u001b[0m\u001b[1;33m\u001b[0m\u001b[0m\n",
      "\u001b[0;32mC:\\Users\\Risato\\Anaconda2\\lib\\site-packages\\pandas\\indexes\\base.pyc\u001b[0m in \u001b[0;36mget_loc\u001b[0;34m(self, key, method, tolerance)\u001b[0m\n\u001b[1;32m   2134\u001b[0m                 \u001b[1;32mreturn\u001b[0m \u001b[0mself\u001b[0m\u001b[1;33m.\u001b[0m\u001b[0m_engine\u001b[0m\u001b[1;33m.\u001b[0m\u001b[0mget_loc\u001b[0m\u001b[1;33m(\u001b[0m\u001b[0mkey\u001b[0m\u001b[1;33m)\u001b[0m\u001b[1;33m\u001b[0m\u001b[0m\n\u001b[1;32m   2135\u001b[0m             \u001b[1;32mexcept\u001b[0m \u001b[0mKeyError\u001b[0m\u001b[1;33m:\u001b[0m\u001b[1;33m\u001b[0m\u001b[0m\n\u001b[0;32m-> 2136\u001b[0;31m                 \u001b[1;32mreturn\u001b[0m \u001b[0mself\u001b[0m\u001b[1;33m.\u001b[0m\u001b[0m_engine\u001b[0m\u001b[1;33m.\u001b[0m\u001b[0mget_loc\u001b[0m\u001b[1;33m(\u001b[0m\u001b[0mself\u001b[0m\u001b[1;33m.\u001b[0m\u001b[0m_maybe_cast_indexer\u001b[0m\u001b[1;33m(\u001b[0m\u001b[0mkey\u001b[0m\u001b[1;33m)\u001b[0m\u001b[1;33m)\u001b[0m\u001b[1;33m\u001b[0m\u001b[0m\n\u001b[0m\u001b[1;32m   2137\u001b[0m \u001b[1;33m\u001b[0m\u001b[0m\n\u001b[1;32m   2138\u001b[0m         \u001b[0mindexer\u001b[0m \u001b[1;33m=\u001b[0m \u001b[0mself\u001b[0m\u001b[1;33m.\u001b[0m\u001b[0mget_indexer\u001b[0m\u001b[1;33m(\u001b[0m\u001b[1;33m[\u001b[0m\u001b[0mkey\u001b[0m\u001b[1;33m]\u001b[0m\u001b[1;33m,\u001b[0m \u001b[0mmethod\u001b[0m\u001b[1;33m=\u001b[0m\u001b[0mmethod\u001b[0m\u001b[1;33m,\u001b[0m \u001b[0mtolerance\u001b[0m\u001b[1;33m=\u001b[0m\u001b[0mtolerance\u001b[0m\u001b[1;33m)\u001b[0m\u001b[1;33m\u001b[0m\u001b[0m\n",
      "\u001b[0;32mpandas\\index.pyx\u001b[0m in \u001b[0;36mpandas.index.IndexEngine.get_loc (pandas\\index.c:4433)\u001b[0;34m()\u001b[0m\n",
      "\u001b[0;32mpandas\\index.pyx\u001b[0m in \u001b[0;36mpandas.index.IndexEngine.get_loc (pandas\\index.c:4279)\u001b[0;34m()\u001b[0m\n",
      "\u001b[0;32mpandas\\src\\hashtable_class_helper.pxi\u001b[0m in \u001b[0;36mpandas.hashtable.PyObjectHashTable.get_item (pandas\\hashtable.c:13742)\u001b[0;34m()\u001b[0m\n",
      "\u001b[0;32mpandas\\src\\hashtable_class_helper.pxi\u001b[0m in \u001b[0;36mpandas.hashtable.PyObjectHashTable.get_item (pandas\\hashtable.c:13696)\u001b[0;34m()\u001b[0m\n",
      "\u001b[0;31mKeyError\u001b[0m: 'Contestant B'"
     ]
    }
   ],
   "source": [
    "# Clean output\n",
    "# Weigh scores in partner events\n",
    "scores['multiplier'] = np.where(scores['Contestant B'].notnull(), 0.5, 1)\n",
    "scores['Points'] = scores['multiplier']*scores['Points']\n",
    "scores = scores[['Contestant', 'Gender', 'Contestant B', 'Gender B', 'Event', 'Team', 'School', 'Points', 'Rank']]\n",
    "\n",
    "# isolate partners\n",
    "partners = scores[scores['Contestant B'].notnull()]\n",
    "partners.drop(['Contestant', 'Gender'], axis=1, inplace=True)\n",
    "partners.rename(columns={'Contestant B': 'Contestant', 'Gender B': 'Gender'}, inplace=True)\n",
    "\n",
    "# Clean remaining results from contestants\n",
    "contestants = scores\n",
    "contestants.drop(['Contestant B', 'Gender B'], axis=1, inplace=True)\n",
    "\n",
    "# Recombine competitors and partners into final scoresheet\n",
    "scores = contestants.append(partners)"
   ]
  },
  {
   "cell_type": "markdown",
   "metadata": {},
   "source": [
    "# Print Results"
   ]
  },
  {
   "cell_type": "code",
   "execution_count": 20,
   "metadata": {
    "collapsed": false
   },
   "outputs": [
    {
     "name": "stdout",
     "output_type": "stream",
     "text": [
      "           Contestant Gender     Event Team School  Points  Rank\n",
      "0               becca      F     Caber    B    HSU    10.0     1\n",
      "1        Jillian zuck      F     Caber    B    CPL     7.0     2\n",
      "2      Rachel Werhman      F     Caber    A    CPL     5.0     3\n",
      "0     Charlie Watkins      M     Caber    B    CPL    10.0     1\n",
      "1             brian D      M     Caber    A    HSU     7.0     2\n",
      "2              b wall      M     Caber    B    HSU     5.0     3\n",
      "0              Dana G      F    Choker    A    HSU    10.0     1\n",
      "1                Naya      F    Choker    B    HSU     7.0     2\n",
      "2    Giselle Vandrick      F    Choker    B    UCB     5.0     3\n",
      "0       Rory MacNeill      M    Choker    A    CPL    10.0     1\n",
      "1             Brian D      M    Choker    A    HSU     7.0     2\n",
      "2                Sean      M    Choker    A    HSU     5.0     3\n",
      "1     Kathie Pauloski      F    Dendro    A    UCB     7.0     2\n",
      "2   Kateyln Sunderman      F    Dendro    A    CPL     5.0     3\n",
      "0        Jacob Levine      M    Dendro    A    UCB    10.0     1\n",
      "0               Kayla      F    Double    B    HSU     5.0     1\n",
      "1             Katelyn      F    Double    A    HSU     3.5     2\n",
      "2     Vanessa Shevlin      F    Double    A    CPL     2.5     3\n",
      "0               Scott      M    Double    A    HSU     5.0     1\n",
      "1         Kyle Rozell      M    Double    A    CPL     3.5     2\n",
      "2             Brain D      M    Double    A    HSU     2.5     3\n",
      "0                Cece    NaN    Double    B    HSU     5.0     1\n",
      "0               Chris    NaN    Double    A    HSU     5.0     1\n",
      "1              Sierra    NaN    Double    A    HSU     3.5     2\n",
      "1         Will Kaemer    NaN    Double    A    CPL     3.5     2\n",
      "2       Rachel Wehman    NaN    Double    A    CPL     2.5     3\n",
      "2                Sean    NaN    Double    A    HSU     2.5     3\n",
      "0     Vanessa Shevlin      F      Hard    A    CPL    10.0     1\n",
      "1              sierra      F      Hard    A    HSU     7.0     2\n",
      "2           Amanda Ma      F      Hard    A    UCB     5.0     3\n",
      "..                ...    ...       ...  ...    ...     ...   ...\n",
      "1        Hannah Lopez      F      Pulp    A    UCB     3.5     2\n",
      "2        Anna Sackman      F      Pulp    B    CPL     2.5     3\n",
      "2                TESS      F      Pulp    A    HSU     2.5     3\n",
      "0      Clint Doucette      M      Pulp    B    CPL     5.0     1\n",
      "0             BRIAN d      M      Pulp    A    HSU     5.0     1\n",
      "1      Lewis Campbell      M      Pulp    A    UCB     3.5     2\n",
      "1        Renny Winter      M      Pulp    A    CPL     3.5     2\n",
      "2    Chris McSmashter      M      Pulp    A    HSU     2.5     3\n",
      "2        Mike Johnson      M      Pulp    B    CPL     2.5     3\n",
      "0                Tess      F    Single    A    HSU    10.0     1\n",
      "1             Katelyn      F    Single    A    HSU     7.0     2\n",
      "2               Becca      F    Single    B    HSU     5.0     3\n",
      "0        Will Kraemer      M    Single    A    CPL    10.0     1\n",
      "1             Brian D      M    Single    A    HSU     7.0     2\n",
      "2                Sean      M    Single    A    HSU     5.0     3\n",
      "0              Dana G      F     Speed    A    HSU    10.0     1\n",
      "1             Giselle      F     Speed    B    UCB     7.0     2\n",
      "2        Hannah Lopez      F     Speed    A    UCB     5.0     3\n",
      "0           Brian D.       M     Speed    B    HSU    10.0     1\n",
      "1         Kyle Rozell      M     Speed    A    CPL     7.0     2\n",
      "2        Will Kraemer      M     Speed    A    CPL     5.0     3\n",
      "0       Alegra Garcia      F     Throw    A    UCB    10.0     1\n",
      "1              sierra      F     Throw    A    HSU     7.0     2\n",
      "2        Hannah Lopez      F     Throw    A    UCB     5.0     3\n",
      "0          Ian Wilson      M     Throw    A    CPL    10.0     1\n",
      "1     Charlie Watkins      M     Throw    B    CPL     7.0     2\n",
      "2      Lewis Campbell      M     Throw    A    UCB     5.0     3\n",
      "1           Amanda Ma      F  Traverse    A    UCB     7.0     2\n",
      "2              B Wall      F  Traverse    B    HSU     5.0     3\n",
      "0                Alex      M  Traverse    B    HSU    10.0     1\n",
      "\n",
      "[84 rows x 7 columns]\n"
     ]
    }
   ],
   "source": [
    "# Print Top 3 in each event\n",
    "print scores[scores['Rank']<=3].sort_values(['Event', 'Gender', 'Rank'])"
   ]
  },
  {
   "cell_type": "code",
   "execution_count": 21,
   "metadata": {
    "collapsed": false
   },
   "outputs": [
    {
     "name": "stdout",
     "output_type": "stream",
     "text": [
      "Bull\n",
      "Contestant    Alex\n",
      "School         HSU\n",
      "Team             B\n",
      "Gender           M\n",
      "Points          23\n",
      "Rank            10\n",
      "Name: 0, dtype: object\n",
      "\n",
      "\n",
      "Bell\n",
      "Contestant    Dana G\n",
      "School           HSU\n",
      "Team               A\n",
      "Gender             F\n",
      "Points            20\n",
      "Rank               2\n",
      "Name: 0, dtype: object\n"
     ]
    }
   ],
   "source": [
    "# Print \"Bull\" and \"Bell\" of the woods\n",
    "report = scores.groupby(['Contestant', 'School', 'Team','Gender'],  as_index=False).sum().sort_values('Points', ascending = False)\n",
    "\n",
    "print 'Bull'\n",
    "print report[report['Gender'] == 'M'].reset_index(drop = True).loc[0]\n",
    "print '\\n'\n",
    "print 'Bell'\n",
    "print report[report['Gender'] == 'F'].reset_index(drop = True).loc[0]"
   ]
  },
  {
   "cell_type": "code",
   "execution_count": 23,
   "metadata": {
    "collapsed": false
   },
   "outputs": [
    {
     "name": "stdout",
     "output_type": "stream",
     "text": [
      "  School Team  Points  Rank\n",
      "2    HSU    A   166.0    76\n",
      "0    CPL    A   125.0    70\n",
      "3    HSU    B    92.0    75\n",
      "4    UCB    A    85.0    71\n",
      "1    CPL    B    82.0    85\n",
      "5    UCB    B    17.0    24\n"
     ]
    }
   ],
   "source": [
    "# Print Team Rankings\n",
    "report = scores.groupby(['School', 'Team'],  as_index=False).sum().sort_values('Points', ascending = False)\n",
    "print report  "
   ]
  },
  {
   "cell_type": "code",
   "execution_count": null,
   "metadata": {
    "collapsed": true
   },
   "outputs": [],
   "source": []
  }
 ],
 "metadata": {
  "kernelspec": {
   "display_name": "Python 2",
   "language": "python",
   "name": "python2"
  },
  "language_info": {
   "codemirror_mode": {
    "name": "ipython",
    "version": 2
   },
   "file_extension": ".py",
   "mimetype": "text/x-python",
   "name": "python",
   "nbconvert_exporter": "python",
   "pygments_lexer": "ipython2",
   "version": "2.7.13"
  },
  "toc": {
   "colors": {
    "hover_highlight": "#DAA520",
    "running_highlight": "#FF0000",
    "selected_highlight": "#FFD700"
   },
   "moveMenuLeft": true,
   "nav_menu": {
    "height": "68px",
    "width": "252px"
   },
   "navigate_menu": true,
   "number_sections": true,
   "sideBar": true,
   "threshold": 4,
   "toc_cell": false,
   "toc_section_display": "block",
   "toc_window_display": true
  }
 },
 "nbformat": 4,
 "nbformat_minor": 2
}
