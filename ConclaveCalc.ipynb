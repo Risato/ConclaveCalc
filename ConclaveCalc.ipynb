{
 "cells": [
  {
   "cell_type": "markdown",
   "metadata": {},
   "source": [
    "# Required Scripts"
   ]
  },
  {
   "cell_type": "code",
   "execution_count": 264,
   "metadata": {
    "collapsed": true
   },
   "outputs": [],
   "source": [
    "import os\n",
    "import pandas as pd\n",
    "import numpy as np\n",
    "\n",
    "from pandas import ExcelWriter\n",
    "from pandas import ExcelFile"
   ]
  },
  {
   "cell_type": "markdown",
   "metadata": {},
   "source": [
    "# Calculate Results"
   ]
  },
  {
   "cell_type": "code",
   "execution_count": 265,
   "metadata": {
    "collapsed": false
   },
   "outputs": [
    {
     "name": "stdout",
     "output_type": "stream",
     "text": [
      ".ipynb_checkpoints\n",
      "Bearclave Schedule_Scoresheet 2017.xlsx\n",
      "Bearclave.xlsx\n",
      "BearClaveScheduleONLY.xlsx\n",
      "CAL Registration Bearclave 2017.xlsx\n",
      "ConclaveCalc.html\n",
      "ConclaveCalc.ipynb\n",
      "ConclaveCalc.py\n",
      "CPL Registration Bearclave 2017.xlsx\n",
      "HSU Registration Bearclave 2017.xlsx\n",
      "Untitled.html\n",
      "Untitled.py\n",
      "Untitled.txt\n",
      "~$Bearclave Schedule_Scoresheet 2017.xlsx\n",
      "~$Bearclave.xlsx\n"
     ]
    }
   ],
   "source": [
    "dirs = os.listdir('.') \n",
    "\n",
    "# This will print all the files and directories\n",
    "for file in dirs:\n",
    "    print file\n",
    "\n",
    "# response = None\n",
    "while response not in dirs:\n",
    "    response = raw_input(\"Please enter filename: \")\n",
    "\n",
    "response = 'Bearclave.xlsx'\n",
    "df = pd.read_excel(response, sheetname=None)"
   ]
  },
  {
   "cell_type": "code",
   "execution_count": 321,
   "metadata": {
    "collapsed": true
   },
   "outputs": [],
   "source": [
    "# Assigns rank based on ascending or descending scores\n",
    "pt_order ={\n",
    "    'Dendro': False,\n",
    "    'Traverse': True,\n",
    "    'Hard': False,\n",
    "    'Double': True,\n",
    "    'PSaw': True,\n",
    "    'Choker': True,\n",
    "    'Throw': False,\n",
    "    'Single': True,\n",
    "    'Caber': True,\n",
    "    'Climb': False,\n",
    "    'JackJill': True,\n",
    "    'Speed': True,\n",
    "    'Pulp': True,\n",
    "    'OP': True}\n",
    "\n",
    "# Assigns points to rankings\n",
    "rankswap = {1:10, 2:7, 3:5, 4:3, 5:1}\n",
    "\n",
    "# Assigns points based on whether events are run separately for men and women\n",
    "gender_split = ['Dendro', 'Traverse', 'Cruise']\n",
    "\n",
    "# Assigns whether or not events have a partner\n",
    "partner_split = ['Double', 'JackJill', 'Caber']"
   ]
  },
  {
   "cell_type": "code",
   "execution_count": 325,
   "metadata": {
    "collapsed": false
   },
   "outputs": [],
   "source": [
    "scores = pd.DataFrame()\n",
    "\n",
    "for key, value in df.iteritems() :\n",
    "    \n",
    "    if key in gender_split:\n",
    "        temp = df[key].dropna(subset=['Contestant'])\n",
    "        tempN = temp.sort_values('Score',ascending = pt_order[key]).reset_index(drop=True)\n",
    "        # Assign rank to competitor names\n",
    "        tempN['Rank'] = tempN.index + 1\n",
    "        # Assign point values to rank\n",
    "        tempN['Points'] = tempN.Rank.map(rankswap)\n",
    "        tempN = tempN[tempN['Points'] >0]\n",
    "        tempN['Event'] = key\n",
    "        scores = tempN.append(scores)\n",
    "#         print key\n",
    "    \n",
    "    else:\n",
    "        # Clean Input Data\n",
    "        temp = df[key].dropna(subset=['Contestant'])\n",
    "    \n",
    "        # Sort based on correlated rank\n",
    "        tempM = temp[temp['Gender']=='M'].sort_values('Score',ascending = pt_order[key]).reset_index(drop=True)\n",
    "        # Assign rank to competitor names\n",
    "        tempM['Rank'] = tempM.index + 1\n",
    "        # Assign point values to rank\n",
    "        tempM['Points'] = tempM.Rank.map(rankswap)\n",
    "        tempM = tempM[tempM['Points'] >0]\n",
    "        tempM['Event'] = key\n",
    "        scores = tempM.append(scores)\n",
    "#         print key + '-M'\n",
    "        \n",
    "        # Sort based on correlated rank\n",
    "        tempF = temp[temp['Gender']=='F'].sort_values('Score',ascending = pt_order[key]).reset_index(drop=True)\n",
    "        # Assign rank to competitor names\n",
    "        tempF['Rank'] = tempF.index + 1\n",
    "        # Assign point values to rank\n",
    "        tempF['Points'] = tempF.Rank.map(rankswap)\n",
    "        tempF = tempF[tempF['Points'] >0]\n",
    "        tempF['Event'] = key\n",
    "        scores = tempF.append(scores)\n",
    "#         print key + '-F'"
   ]
  },
  {
   "cell_type": "code",
   "execution_count": 326,
   "metadata": {
    "collapsed": false
   },
   "outputs": [
    {
     "name": "stderr",
     "output_type": "stream",
     "text": [
      "c:\\users\\risato\\anaconda2\\lib\\site-packages\\ipykernel\\__main__.py:9: SettingWithCopyWarning: \n",
      "A value is trying to be set on a copy of a slice from a DataFrame\n",
      "\n",
      "See the caveats in the documentation: http://pandas.pydata.org/pandas-docs/stable/indexing.html#indexing-view-versus-copy\n"
     ]
    }
   ],
   "source": [
    "# Clean output\n",
    "# Weigh scores in partner events\n",
    "scores['multiplier'] = np.where(scores['Contestant B'].notnull(), 0.5, 1)\n",
    "scores['Points'] = scores['multiplier']*scores['Points']\n",
    "scores = scores[['Contestant', 'Gender', 'Contestant B', 'Gender B', 'Event', 'Team', 'School', 'Points', 'Rank']]\n",
    "\n",
    "# isolate partners\n",
    "partners = scores[scores['Contestant B'].notnull()]\n",
    "partners.drop(['Contestant', 'Gender'], axis=1, inplace=True)\n",
    "partners.rename(columns={'Contestant B': 'Contestant', 'Gender B': 'Gender'}, inplace=True)\n",
    "\n",
    "# Clean remaining results from contestants\n",
    "contestants = scores\n",
    "contestants.drop(['Contestant B', 'Gender B'], axis=1, inplace=True)\n",
    "\n",
    "# Recombine competitors and partners into final scoresheet\n",
    "scores = contestants.append(partners)"
   ]
  },
  {
   "cell_type": "markdown",
   "metadata": {},
   "source": [
    "# Print Results"
   ]
  },
  {
   "cell_type": "code",
   "execution_count": 318,
   "metadata": {
    "collapsed": false
   },
   "outputs": [
    {
     "name": "stdout",
     "output_type": "stream",
     "text": [
      "           Contestant Gender     Event Team School  Points  Rank\n",
      "0               becca      F     Caber    B    HSU    10.0     1\n",
      "1        Jillian zuck      F     Caber    B    CPL     7.0     2\n",
      "2      Rachel Werhman      F     Caber    A    CPL     5.0     3\n",
      "0     Charlie Watkins      M     Caber    B    CPL    10.0     1\n",
      "1             brian D      M     Caber    A    HSU     7.0     2\n",
      "2              b wall      M     Caber    B    HSU     5.0     3\n",
      "0              Dana G      F    Choker    A    HSU    10.0     1\n",
      "1                Naya      F    Choker    B    HSU     7.0     2\n",
      "2    Giselle Vandrick      F    Choker    B    UCB     5.0     3\n",
      "0       Rory MacNeill      M    Choker    A    CPL    10.0     1\n",
      "1             Brian D      M    Choker    A    HSU     7.0     2\n",
      "2                Sean      M    Choker    A    HSU     5.0     3\n",
      "1     Kathie Pauloski      F    Dendro    A    UCB     7.0     2\n",
      "2   Kateyln Sunderman      F    Dendro    A    CPL     5.0     3\n",
      "0        Jacob Levine      M    Dendro    A    UCB    10.0     1\n",
      "0               Kayla      F    Double    B    HSU     5.0     1\n",
      "1             Katelyn      F    Double    A    HSU     3.5     2\n",
      "2     Vanessa Shevlin      F    Double    A    CPL     2.5     3\n",
      "0               Scott      M    Double    A    HSU     5.0     1\n",
      "1         Kyle Rozell      M    Double    A    CPL     3.5     2\n",
      "2             Brain D      M    Double    A    HSU     2.5     3\n",
      "0                Cece    NaN    Double    B    HSU     5.0     1\n",
      "0               Chris    NaN    Double    A    HSU     5.0     1\n",
      "1              Sierra    NaN    Double    A    HSU     3.5     2\n",
      "1         Will Kaemer    NaN    Double    A    CPL     3.5     2\n",
      "2       Rachel Wehman    NaN    Double    A    CPL     2.5     3\n",
      "2                Sean    NaN    Double    A    HSU     2.5     3\n",
      "0     Vanessa Shevlin      F      Hard    A    CPL    10.0     1\n",
      "1              sierra      F      Hard    A    HSU     7.0     2\n",
      "2           Amanda Ma      F      Hard    A    UCB     5.0     3\n",
      "..                ...    ...       ...  ...    ...     ...   ...\n",
      "1        Hannah Lopez      F      Pulp    A    UCB     3.5     2\n",
      "2        Anna Sackman      F      Pulp    B    CPL     2.5     3\n",
      "2                TESS      F      Pulp    A    HSU     2.5     3\n",
      "0      Clint Doucette      M      Pulp    B    CPL     5.0     1\n",
      "0             BRIAN d      M      Pulp    A    HSU     5.0     1\n",
      "1      Lewis Campbell      M      Pulp    A    UCB     3.5     2\n",
      "1        Renny Winter      M      Pulp    A    CPL     3.5     2\n",
      "2    Chris McSmashter      M      Pulp    A    HSU     2.5     3\n",
      "2        Mike Johnson      M      Pulp    B    CPL     2.5     3\n",
      "0                Tess      F    Single    A    HSU    10.0     1\n",
      "1             Katelyn      F    Single    A    HSU     7.0     2\n",
      "2               Becca      F    Single    B    HSU     5.0     3\n",
      "0        Will Kraemer      M    Single    A    CPL    10.0     1\n",
      "1             Brian D      M    Single    A    HSU     7.0     2\n",
      "2                Sean      M    Single    A    HSU     5.0     3\n",
      "0              Dana G      F     Speed    A    HSU    10.0     1\n",
      "1             Giselle      F     Speed    B    UCB     7.0     2\n",
      "2        Hannah Lopez      F     Speed    A    UCB     5.0     3\n",
      "0           Brian D.       M     Speed    B    HSU    10.0     1\n",
      "1         Kyle Rozell      M     Speed    A    CPL     7.0     2\n",
      "2        Will Kraemer      M     Speed    A    CPL     5.0     3\n",
      "0       Alegra Garcia      F     Throw    A    UCB    10.0     1\n",
      "1              sierra      F     Throw    A    HSU     7.0     2\n",
      "2        Hannah Lopez      F     Throw    A    UCB     5.0     3\n",
      "0          Ian Wilson      M     Throw    A    CPL    10.0     1\n",
      "1     Charlie Watkins      M     Throw    B    CPL     7.0     2\n",
      "2      Lewis Campbell      M     Throw    A    UCB     5.0     3\n",
      "1           Amanda Ma      F  Traverse    A    UCB     7.0     2\n",
      "2              B Wall      F  Traverse    B    HSU     5.0     3\n",
      "0                Alex      M  Traverse    B    HSU    10.0     1\n",
      "\n",
      "[84 rows x 7 columns]\n"
     ]
    }
   ],
   "source": [
    "# Print Top 3 in each event\n",
    "print scores[scores['Rank']<=3].sort_values(['Event', 'Gender', 'Rank'])"
   ]
  },
  {
   "cell_type": "code",
   "execution_count": 292,
   "metadata": {
    "collapsed": false
   },
   "outputs": [
    {
     "name": "stdout",
     "output_type": "stream",
     "text": [
      "Bull\n",
      "Contestant    Alex\n",
      "School         HSU\n",
      "Team             B\n",
      "Gender           M\n",
      "Points          23\n",
      "Rank            10\n",
      "Name: 0, dtype: object\n",
      "\n",
      "\n",
      "Bell\n",
      "Contestant    Dana G\n",
      "School           HSU\n",
      "Team               A\n",
      "Gender             F\n",
      "Points            20\n",
      "Rank               2\n",
      "Name: 0, dtype: object\n"
     ]
    }
   ],
   "source": [
    "# Print \"Bull\" and \"Bell\" of the woods\n",
    "report = scores.groupby(['Contestant', 'School', 'Team','Gender'],  as_index=False).sum().sort_values('Points', ascending = False)\n",
    "\n",
    "print 'Bull'\n",
    "print report[report['Gender'] == 'M'].reset_index(drop = True).loc[0]\n",
    "print '\\n'\n",
    "print 'Bell'\n",
    "print report[report['Gender'] == 'F'].reset_index(drop = True).loc[0]"
   ]
  },
  {
   "cell_type": "code",
   "execution_count": 282,
   "metadata": {
    "collapsed": false
   },
   "outputs": [
    {
     "name": "stdout",
     "output_type": "stream",
     "text": [
      "  School Team  Points  Rank\n",
      "2    HSU    A   166.0    76\n",
      "0    CPL    A   125.0    70\n",
      "3    HSU    B    92.0    75\n",
      "4    UCB    A    85.0    71\n",
      "1    CPL    B    82.0    85\n",
      "5    UCB    B    17.0    24\n"
     ]
    }
   ],
   "source": [
    "# Print Team Rankings\n",
    "report = final.groupby(['School', 'Team'],  as_index=False).sum().sort_values('Points', ascending = False)\n",
    "print report  "
   ]
  },
  {
   "cell_type": "code",
   "execution_count": null,
   "metadata": {
    "collapsed": true
   },
   "outputs": [],
   "source": []
  }
 ],
 "metadata": {
  "kernelspec": {
   "display_name": "Python 2",
   "language": "python",
   "name": "python2"
  },
  "language_info": {
   "codemirror_mode": {
    "name": "ipython",
    "version": 2
   },
   "file_extension": ".py",
   "mimetype": "text/x-python",
   "name": "python",
   "nbconvert_exporter": "python",
   "pygments_lexer": "ipython2",
   "version": "2.7.13"
  },
  "toc": {
   "colors": {
    "hover_highlight": "#DAA520",
    "running_highlight": "#FF0000",
    "selected_highlight": "#FFD700"
   },
   "moveMenuLeft": true,
   "nav_menu": {
    "height": "68px",
    "width": "252px"
   },
   "navigate_menu": true,
   "number_sections": true,
   "sideBar": true,
   "threshold": 4,
   "toc_cell": false,
   "toc_section_display": "block",
   "toc_window_display": true
  }
 },
 "nbformat": 4,
 "nbformat_minor": 2
}
